{
  "nbformat": 4,
  "nbformat_minor": 0,
  "metadata": {
    "colab": {
      "name": "Time Series Forecasting using TensorFlow.ipynb",
      "provenance": [],
      "collapsed_sections": [],
      "history_visible": true
    },
    "kernelspec": {
      "name": "python3",
      "display_name": "Python 3"
    },
    "accelerator": "GPU"
  },
  "cells": [
    {
      "cell_type": "code",
      "metadata": {
        "id": "GNkzTFfynsmV",
        "colab": {
          "base_uri": "https://localhost:8080/"
        },
        "outputId": "a4d4595d-47e3-443b-e936-87cbd57b0677"
      },
      "source": [
        "!pip install tensorflow==2.4.1"
      ],
      "execution_count": 34,
      "outputs": [
        {
          "output_type": "stream",
          "text": [
            "Requirement already satisfied: tensorflow==2.4.1 in /usr/local/lib/python3.7/dist-packages (2.4.1)\n",
            "Requirement already satisfied: google-pasta~=0.2 in /usr/local/lib/python3.7/dist-packages (from tensorflow==2.4.1) (0.2.0)\n",
            "Requirement already satisfied: numpy~=1.19.2 in /usr/local/lib/python3.7/dist-packages (from tensorflow==2.4.1) (1.19.5)\n",
            "Requirement already satisfied: grpcio~=1.32.0 in /usr/local/lib/python3.7/dist-packages (from tensorflow==2.4.1) (1.32.0)\n",
            "Requirement already satisfied: typing-extensions~=3.7.4 in /usr/local/lib/python3.7/dist-packages (from tensorflow==2.4.1) (3.7.4.3)\n",
            "Requirement already satisfied: absl-py~=0.10 in /usr/local/lib/python3.7/dist-packages (from tensorflow==2.4.1) (0.10.0)\n",
            "Requirement already satisfied: h5py~=2.10.0 in /usr/local/lib/python3.7/dist-packages (from tensorflow==2.4.1) (2.10.0)\n",
            "Requirement already satisfied: wheel~=0.35 in /usr/local/lib/python3.7/dist-packages (from tensorflow==2.4.1) (0.36.2)\n",
            "Requirement already satisfied: flatbuffers~=1.12.0 in /usr/local/lib/python3.7/dist-packages (from tensorflow==2.4.1) (1.12)\n",
            "Requirement already satisfied: keras-preprocessing~=1.1.2 in /usr/local/lib/python3.7/dist-packages (from tensorflow==2.4.1) (1.1.2)\n",
            "Requirement already satisfied: astunparse~=1.6.3 in /usr/local/lib/python3.7/dist-packages (from tensorflow==2.4.1) (1.6.3)\n",
            "Requirement already satisfied: gast==0.3.3 in /usr/local/lib/python3.7/dist-packages (from tensorflow==2.4.1) (0.3.3)\n",
            "Requirement already satisfied: tensorboard~=2.4 in /usr/local/lib/python3.7/dist-packages (from tensorflow==2.4.1) (2.4.1)\n",
            "Requirement already satisfied: protobuf>=3.9.2 in /usr/local/lib/python3.7/dist-packages (from tensorflow==2.4.1) (3.12.4)\n",
            "Requirement already satisfied: six~=1.15.0 in /usr/local/lib/python3.7/dist-packages (from tensorflow==2.4.1) (1.15.0)\n",
            "Requirement already satisfied: wrapt~=1.12.1 in /usr/local/lib/python3.7/dist-packages (from tensorflow==2.4.1) (1.12.1)\n",
            "Requirement already satisfied: opt-einsum~=3.3.0 in /usr/local/lib/python3.7/dist-packages (from tensorflow==2.4.1) (3.3.0)\n",
            "Requirement already satisfied: termcolor~=1.1.0 in /usr/local/lib/python3.7/dist-packages (from tensorflow==2.4.1) (1.1.0)\n",
            "Requirement already satisfied: tensorflow-estimator<2.5.0,>=2.4.0 in /usr/local/lib/python3.7/dist-packages (from tensorflow==2.4.1) (2.4.0)\n",
            "Requirement already satisfied: tensorboard-plugin-wit>=1.6.0 in /usr/local/lib/python3.7/dist-packages (from tensorboard~=2.4->tensorflow==2.4.1) (1.8.0)\n",
            "Requirement already satisfied: google-auth<2,>=1.6.3 in /usr/local/lib/python3.7/dist-packages (from tensorboard~=2.4->tensorflow==2.4.1) (1.27.1)\n",
            "Requirement already satisfied: google-auth-oauthlib<0.5,>=0.4.1 in /usr/local/lib/python3.7/dist-packages (from tensorboard~=2.4->tensorflow==2.4.1) (0.4.3)\n",
            "Requirement already satisfied: setuptools>=41.0.0 in /usr/local/lib/python3.7/dist-packages (from tensorboard~=2.4->tensorflow==2.4.1) (54.0.0)\n",
            "Requirement already satisfied: markdown>=2.6.8 in /usr/local/lib/python3.7/dist-packages (from tensorboard~=2.4->tensorflow==2.4.1) (3.3.4)\n",
            "Requirement already satisfied: werkzeug>=0.11.15 in /usr/local/lib/python3.7/dist-packages (from tensorboard~=2.4->tensorflow==2.4.1) (1.0.1)\n",
            "Requirement already satisfied: requests<3,>=2.21.0 in /usr/local/lib/python3.7/dist-packages (from tensorboard~=2.4->tensorflow==2.4.1) (2.23.0)\n",
            "Requirement already satisfied: cachetools<5.0,>=2.0.0 in /usr/local/lib/python3.7/dist-packages (from google-auth<2,>=1.6.3->tensorboard~=2.4->tensorflow==2.4.1) (4.2.1)\n",
            "Requirement already satisfied: rsa<5,>=3.1.4; python_version >= \"3.6\" in /usr/local/lib/python3.7/dist-packages (from google-auth<2,>=1.6.3->tensorboard~=2.4->tensorflow==2.4.1) (4.7.2)\n",
            "Requirement already satisfied: pyasn1-modules>=0.2.1 in /usr/local/lib/python3.7/dist-packages (from google-auth<2,>=1.6.3->tensorboard~=2.4->tensorflow==2.4.1) (0.2.8)\n",
            "Requirement already satisfied: requests-oauthlib>=0.7.0 in /usr/local/lib/python3.7/dist-packages (from google-auth-oauthlib<0.5,>=0.4.1->tensorboard~=2.4->tensorflow==2.4.1) (1.3.0)\n",
            "Requirement already satisfied: importlib-metadata; python_version < \"3.8\" in /usr/local/lib/python3.7/dist-packages (from markdown>=2.6.8->tensorboard~=2.4->tensorflow==2.4.1) (3.7.0)\n",
            "Requirement already satisfied: chardet<4,>=3.0.2 in /usr/local/lib/python3.7/dist-packages (from requests<3,>=2.21.0->tensorboard~=2.4->tensorflow==2.4.1) (3.0.4)\n",
            "Requirement already satisfied: idna<3,>=2.5 in /usr/local/lib/python3.7/dist-packages (from requests<3,>=2.21.0->tensorboard~=2.4->tensorflow==2.4.1) (2.10)\n",
            "Requirement already satisfied: urllib3!=1.25.0,!=1.25.1,<1.26,>=1.21.1 in /usr/local/lib/python3.7/dist-packages (from requests<3,>=2.21.0->tensorboard~=2.4->tensorflow==2.4.1) (1.24.3)\n",
            "Requirement already satisfied: certifi>=2017.4.17 in /usr/local/lib/python3.7/dist-packages (from requests<3,>=2.21.0->tensorboard~=2.4->tensorflow==2.4.1) (2020.12.5)\n",
            "Requirement already satisfied: pyasn1>=0.1.3 in /usr/local/lib/python3.7/dist-packages (from rsa<5,>=3.1.4; python_version >= \"3.6\"->google-auth<2,>=1.6.3->tensorboard~=2.4->tensorflow==2.4.1) (0.4.8)\n",
            "Requirement already satisfied: oauthlib>=3.0.0 in /usr/local/lib/python3.7/dist-packages (from requests-oauthlib>=0.7.0->google-auth-oauthlib<0.5,>=0.4.1->tensorboard~=2.4->tensorflow==2.4.1) (3.1.0)\n",
            "Requirement already satisfied: zipp>=0.5 in /usr/local/lib/python3.7/dist-packages (from importlib-metadata; python_version < \"3.8\"->markdown>=2.6.8->tensorboard~=2.4->tensorflow==2.4.1) (3.4.1)\n"
          ],
          "name": "stdout"
        }
      ]
    },
    {
      "cell_type": "code",
      "metadata": {
        "id": "56XEQOGknrAk",
        "colab": {
          "base_uri": "https://localhost:8080/"
        },
        "outputId": "ac9bfd2a-6c31-469b-a3ce-02ee1b35111e"
      },
      "source": [
        "import tensorflow as tf\n",
        "print(tf.__version__)"
      ],
      "execution_count": 35,
      "outputs": [
        {
          "output_type": "stream",
          "text": [
            "2.4.1\n"
          ],
          "name": "stdout"
        }
      ]
    },
    {
      "cell_type": "code",
      "metadata": {
        "id": "sLl52leVp5wU"
      },
      "source": [
        "import numpy as np\n",
        "import matplotlib.pyplot as plt\n",
        "def plot_series(time, series, format=\"-\", start=0, end=None):\n",
        "    plt.plot(time[start:end], series[start:end], format)\n",
        "    plt.xlabel(\"Time\")\n",
        "    plt.ylabel(\"Value\")\n",
        "    plt.grid(True)"
      ],
      "execution_count": 36,
      "outputs": []
    },
    {
      "cell_type": "code",
      "metadata": {
        "id": "cb-ZD8PIj2fY",
        "colab": {
          "base_uri": "https://localhost:8080/"
        },
        "outputId": "2d586798-2ddc-4e66-add2-63de2c3d534d"
      },
      "source": [
        "!git clone https://github.com/valwork2021/Hackathon.git"
      ],
      "execution_count": 37,
      "outputs": [
        {
          "output_type": "stream",
          "text": [
            "fatal: destination path 'Hackathon' already exists and is not an empty directory.\n"
          ],
          "name": "stdout"
        }
      ]
    },
    {
      "cell_type": "code",
      "metadata": {
        "id": "NcG9r1eClbTh",
        "colab": {
          "base_uri": "https://localhost:8080/"
        },
        "outputId": "fa0c47d2-f097-423d-ec07-532caeba1150"
      },
      "source": [
        "import csv\n",
        "building1 = []\n",
        "building2 = []\n",
        "\n",
        "with open('/content/Hackathon/data/insights_product_by_hour.csv') as csvfile:\n",
        "  reader = csv.reader(csvfile, delimiter=',')\n",
        "  next(reader)\n",
        "  next(reader)\n",
        "  for row in reader:\n",
        "    building1.append(row[1])\n",
        "    building2.append(row[2])\n",
        "\n",
        "series = np.array(building2)\n",
        "series[series == ''] = 0\n",
        "series = series.astype(np.float64)\n",
        "\n",
        "time = np.array(list(range(0, len(series))))\n",
        "print('series: {}'.format(series[:5]))\n",
        "print('time: {}'.format(time[:5]))"
      ],
      "execution_count": 38,
      "outputs": [
        {
          "output_type": "stream",
          "text": [
            "series: [1430.  696.  680.  491.  324.]\n",
            "time: [0 1 2 3 4]\n"
          ],
          "name": "stdout"
        }
      ]
    },
    {
      "cell_type": "code",
      "metadata": {
        "id": "YUWXUZj7WbW4",
        "colab": {
          "base_uri": "https://localhost:8080/",
          "height": 388
        },
        "outputId": "9991cfe5-148d-491b-82d1-c77df5d172fd"
      },
      "source": [
        "plt.figure(figsize=(10, 6))\n",
        "plot_series(time, series)"
      ],
      "execution_count": 39,
      "outputs": [
        {
          "output_type": "display_data",
          "data": {
            "image/png": "[encoded data removed]",
            "text/plain": [
              "<Figure size 720x432 with 1 Axes>"
            ]
          },
          "metadata": {
            "tags": [],
            "needs_background": "light"
          }
        }
      ]
    },
    {
      "cell_type": "code",
      "metadata": {
        "id": "L92YRw_IpCFG"
      },
      "source": [
        "split_time = 350\n",
        "time_train = time[:split_time]\n",
        "x_train = series[:split_time]\n",
        "time_valid = time[split_time:]\n",
        "x_valid = series[split_time:]"
      ],
      "execution_count": 40,
      "outputs": []
    },
    {
      "cell_type": "code",
      "metadata": {
        "id": "lJwUUZscnG38"
      },
      "source": [
        "def windowed_dataset(series, window_size, batch_size, shuffle_buffer):\n",
        "    series = tf.expand_dims(series, axis=-1)\n",
        "    ds = tf.data.Dataset.from_tensor_slices(series)\n",
        "    ds = ds.window(window_size + 1, shift=1, drop_remainder=True)\n",
        "    ds = ds.flat_map(lambda w: w.batch(window_size + 1))\n",
        "    ds = ds.shuffle(shuffle_buffer)\n",
        "    ds = ds.map(lambda w: (w[:-1], w[1:]))\n",
        "    return ds.batch(batch_size).prefetch(1)"
      ],
      "execution_count": 41,
      "outputs": []
    },
    {
      "cell_type": "code",
      "metadata": {
        "id": "AclfYY3Mn6Ph",
        "colab": {
          "base_uri": "https://localhost:8080/"
        },
        "outputId": "5995fd46-534d-44d9-fbd9-c1b028212ada"
      },
      "source": [
        "tf.keras.backend.clear_session()\n",
        "tf.random.set_seed(51)\n",
        "np.random.seed(51)\n",
        "shuffle_buffer_size = 1000\n",
        "window_size = 60\n",
        "batch_size = 100\n",
        "train_set = windowed_dataset(x_train, window_size, batch_size, shuffle_buffer_size)\n",
        "print(x_train.shape)"
      ],
      "execution_count": 42,
      "outputs": [
        {
          "output_type": "stream",
          "text": [
            "(350,)\n"
          ],
          "name": "stdout"
        }
      ]
    },
    {
      "cell_type": "code",
      "metadata": {
        "id": "pUWyXoPOhmR1",
        "colab": {
          "base_uri": "https://localhost:8080/"
        },
        "outputId": "836dbd3c-3cbb-4739-df6b-9a600769e94a"
      },
      "source": [
        "tf.keras.backend.clear_session()\n",
        "model = tf.keras.models.Sequential([\n",
        "  tf.keras.layers.Conv1D(filters=60, kernel_size=5,\n",
        "                      strides=1, padding=\"causal\",\n",
        "                      activation=\"relu\",\n",
        "                      input_shape=[None, 1]),\n",
        "  tf.keras.layers.LSTM(60, return_sequences=True),\n",
        "  tf.keras.layers.LSTM(60, return_sequences=True),\n",
        "  tf.keras.layers.Dense(30, activation=\"relu\"),\n",
        "  tf.keras.layers.Dense(10, activation=\"relu\"),\n",
        "  tf.keras.layers.Dense(1),\n",
        "  tf.keras.layers.Lambda(lambda x: x * 400)\n",
        "])\n",
        "model.summary()"
      ],
      "execution_count": 43,
      "outputs": [
        {
          "output_type": "stream",
          "text": [
            "Model: \"sequential\"\n",
            "_________________________________________________________________\n",
            "Layer (type)                 Output Shape              Param #   \n",
            "=================================================================\n",
            "conv1d (Conv1D)              (None, None, 60)          360       \n",
            "_________________________________________________________________\n",
            "lstm (LSTM)                  (None, None, 60)          29040     \n",
            "_________________________________________________________________\n",
            "lstm_1 (LSTM)                (None, None, 60)          29040     \n",
            "_________________________________________________________________\n",
            "dense (Dense)                (None, None, 30)          1830      \n",
            "_________________________________________________________________\n",
            "dense_1 (Dense)              (None, None, 10)          310       \n",
            "_________________________________________________________________\n",
            "dense_2 (Dense)              (None, None, 1)           11        \n",
            "_________________________________________________________________\n",
            "lambda (Lambda)              (None, None, 1)           0         \n",
            "=================================================================\n",
            "Total params: 60,591\n",
            "Trainable params: 60,591\n",
            "Non-trainable params: 0\n",
            "_________________________________________________________________\n"
          ],
          "name": "stdout"
        }
      ]
    },
    {
      "cell_type": "code",
      "metadata": {
        "id": "QsksvkcXAAgq",
        "colab": {
          "base_uri": "https://localhost:8080/"
        },
        "outputId": "0d8b51dd-9be3-40b4-aa44-0814eaef891f"
      },
      "source": [
        "optimizer = tf.keras.optimizers.SGD(lr=1e-5, momentum=0.9)\n",
        "model.compile(loss=tf.keras.losses.Huber(),\n",
        "              optimizer=optimizer,\n",
        "              metrics=[\"mae\"])\n",
        "history = model.fit(train_set, epochs=100)"
      ],
      "execution_count": 44,
      "outputs": [
        {
          "output_type": "stream",
          "text": [
            "Epoch 1/100\n",
            "3/3 [==============================] - 3s 16ms/step - loss: 156.1281 - mae: 156.6249\n",
            "Epoch 2/100\n",
            "3/3 [==============================] - 0s 14ms/step - loss: 120.4253 - mae: 120.9235\n",
            "Epoch 3/100\n",
            "3/3 [==============================] - 0s 17ms/step - loss: 114.3917 - mae: 114.8901\n",
            "Epoch 4/100\n",
            "3/3 [==============================] - 0s 13ms/step - loss: 107.4431 - mae: 107.9416\n",
            "Epoch 5/100\n",
            "3/3 [==============================] - 0s 13ms/step - loss: 101.5117 - mae: 102.0099\n",
            "Epoch 6/100\n",
            "3/3 [==============================] - 0s 12ms/step - loss: 95.5611 - mae: 96.0589\n",
            "Epoch 7/100\n",
            "3/3 [==============================] - 0s 13ms/step - loss: 92.8010 - mae: 93.2991\n",
            "Epoch 8/100\n",
            "3/3 [==============================] - 0s 13ms/step - loss: 87.7668 - mae: 88.2646\n",
            "Epoch 9/100\n",
            "3/3 [==============================] - 0s 13ms/step - loss: 88.9145 - mae: 89.4131\n",
            "Epoch 10/100\n",
            "3/3 [==============================] - 0s 14ms/step - loss: 84.2202 - mae: 84.7177\n",
            "Epoch 11/100\n",
            "3/3 [==============================] - 0s 14ms/step - loss: 84.1706 - mae: 84.6668\n",
            "Epoch 12/100\n",
            "3/3 [==============================] - 0s 13ms/step - loss: 79.8833 - mae: 80.3796\n",
            "Epoch 13/100\n",
            "3/3 [==============================] - 0s 14ms/step - loss: 82.2226 - mae: 82.7192\n",
            "Epoch 14/100\n",
            "3/3 [==============================] - 0s 13ms/step - loss: 77.9045 - mae: 78.4000\n",
            "Epoch 15/100\n",
            "3/3 [==============================] - 0s 13ms/step - loss: 77.1677 - mae: 77.6636\n",
            "Epoch 16/100\n",
            "3/3 [==============================] - 0s 13ms/step - loss: 76.7461 - mae: 77.2428\n",
            "Epoch 17/100\n",
            "3/3 [==============================] - 0s 13ms/step - loss: 72.6430 - mae: 73.1392\n",
            "Epoch 18/100\n",
            "3/3 [==============================] - 0s 14ms/step - loss: 73.0401 - mae: 73.5356\n",
            "Epoch 19/100\n",
            "3/3 [==============================] - 0s 14ms/step - loss: 71.1398 - mae: 71.6359\n",
            "Epoch 20/100\n",
            "3/3 [==============================] - 0s 13ms/step - loss: 71.1441 - mae: 71.6394\n",
            "Epoch 21/100\n",
            "3/3 [==============================] - 0s 12ms/step - loss: 69.1567 - mae: 69.6520\n",
            "Epoch 22/100\n",
            "3/3 [==============================] - 0s 15ms/step - loss: 69.6026 - mae: 70.0987\n",
            "Epoch 23/100\n",
            "3/3 [==============================] - 0s 14ms/step - loss: 66.4420 - mae: 66.9370\n",
            "Epoch 24/100\n",
            "3/3 [==============================] - 0s 18ms/step - loss: 66.8207 - mae: 67.3163\n",
            "Epoch 25/100\n",
            "3/3 [==============================] - 0s 13ms/step - loss: 65.5687 - mae: 66.0648\n",
            "Epoch 26/100\n",
            "3/3 [==============================] - 0s 15ms/step - loss: 64.9113 - mae: 65.4069\n",
            "Epoch 27/100\n",
            "3/3 [==============================] - 0s 13ms/step - loss: 64.1714 - mae: 64.6670\n",
            "Epoch 28/100\n",
            "3/3 [==============================] - 0s 14ms/step - loss: 64.1960 - mae: 64.6917\n",
            "Epoch 29/100\n",
            "3/3 [==============================] - 0s 12ms/step - loss: 63.0499 - mae: 63.5447\n",
            "Epoch 30/100\n",
            "3/3 [==============================] - 0s 13ms/step - loss: 59.9381 - mae: 60.4324\n",
            "Epoch 31/100\n",
            "3/3 [==============================] - 0s 16ms/step - loss: 59.9113 - mae: 60.4069\n",
            "Epoch 32/100\n",
            "3/3 [==============================] - 0s 14ms/step - loss: 60.2654 - mae: 60.7611\n",
            "Epoch 33/100\n",
            "3/3 [==============================] - 0s 15ms/step - loss: 60.3286 - mae: 60.8222\n",
            "Epoch 34/100\n",
            "3/3 [==============================] - 0s 13ms/step - loss: 56.8959 - mae: 57.3909\n",
            "Epoch 35/100\n",
            "3/3 [==============================] - 0s 12ms/step - loss: 56.9301 - mae: 57.4245\n",
            "Epoch 36/100\n",
            "3/3 [==============================] - 0s 13ms/step - loss: 56.7735 - mae: 57.2677\n",
            "Epoch 37/100\n",
            "3/3 [==============================] - 0s 14ms/step - loss: 57.5919 - mae: 58.0873\n",
            "Epoch 38/100\n",
            "3/3 [==============================] - 0s 14ms/step - loss: 57.2443 - mae: 57.7399\n",
            "Epoch 39/100\n",
            "3/3 [==============================] - 0s 15ms/step - loss: 56.2894 - mae: 56.7854\n",
            "Epoch 40/100\n",
            "3/3 [==============================] - 0s 13ms/step - loss: 57.8768 - mae: 58.3723\n",
            "Epoch 41/100\n",
            "3/3 [==============================] - 0s 15ms/step - loss: 55.8830 - mae: 56.3789\n",
            "Epoch 42/100\n",
            "3/3 [==============================] - 0s 13ms/step - loss: 56.4817 - mae: 56.9784\n",
            "Epoch 43/100\n",
            "3/3 [==============================] - 0s 13ms/step - loss: 53.2045 - mae: 53.6993\n",
            "Epoch 44/100\n",
            "3/3 [==============================] - 0s 13ms/step - loss: 53.6435 - mae: 54.1379\n",
            "Epoch 45/100\n",
            "3/3 [==============================] - 0s 12ms/step - loss: 52.6268 - mae: 53.1221\n",
            "Epoch 46/100\n",
            "3/3 [==============================] - 0s 13ms/step - loss: 54.7703 - mae: 55.2668\n",
            "Epoch 47/100\n",
            "3/3 [==============================] - 0s 14ms/step - loss: 54.1589 - mae: 54.6540\n",
            "Epoch 48/100\n",
            "3/3 [==============================] - 0s 15ms/step - loss: 54.6879 - mae: 55.1841\n",
            "Epoch 49/100\n",
            "3/3 [==============================] - 0s 16ms/step - loss: 55.0525 - mae: 55.5491\n",
            "Epoch 50/100\n",
            "3/3 [==============================] - 0s 14ms/step - loss: 52.1749 - mae: 52.6709\n",
            "Epoch 51/100\n",
            "3/3 [==============================] - 0s 13ms/step - loss: 49.1263 - mae: 49.6214\n",
            "Epoch 52/100\n",
            "3/3 [==============================] - 0s 14ms/step - loss: 51.6524 - mae: 52.1478\n",
            "Epoch 53/100\n",
            "3/3 [==============================] - 0s 13ms/step - loss: 48.0444 - mae: 48.5385\n",
            "Epoch 54/100\n",
            "3/3 [==============================] - 0s 13ms/step - loss: 47.8474 - mae: 48.3423\n",
            "Epoch 55/100\n",
            "3/3 [==============================] - 0s 13ms/step - loss: 49.6421 - mae: 50.1363\n",
            "Epoch 56/100\n",
            "3/3 [==============================] - 0s 15ms/step - loss: 51.5960 - mae: 52.0921\n",
            "Epoch 57/100\n",
            "3/3 [==============================] - 0s 13ms/step - loss: 49.1326 - mae: 49.6279\n",
            "Epoch 58/100\n",
            "3/3 [==============================] - 0s 13ms/step - loss: 50.1093 - mae: 50.6051\n",
            "Epoch 59/100\n",
            "3/3 [==============================] - 0s 13ms/step - loss: 48.1538 - mae: 48.6473\n",
            "Epoch 60/100\n",
            "3/3 [==============================] - 0s 13ms/step - loss: 48.4082 - mae: 48.9027\n",
            "Epoch 61/100\n",
            "3/3 [==============================] - 0s 14ms/step - loss: 48.7801 - mae: 49.2760\n",
            "Epoch 62/100\n",
            "3/3 [==============================] - 0s 13ms/step - loss: 47.3710 - mae: 47.8664\n",
            "Epoch 63/100\n",
            "3/3 [==============================] - 0s 14ms/step - loss: 47.6633 - mae: 48.1583\n",
            "Epoch 64/100\n",
            "3/3 [==============================] - 0s 15ms/step - loss: 47.5031 - mae: 47.9956\n",
            "Epoch 65/100\n",
            "3/3 [==============================] - 0s 16ms/step - loss: 44.8478 - mae: 45.3415\n",
            "Epoch 66/100\n",
            "3/3 [==============================] - 0s 12ms/step - loss: 49.4494 - mae: 49.9454\n",
            "Epoch 67/100\n",
            "3/3 [==============================] - 0s 13ms/step - loss: 50.2849 - mae: 50.7798\n",
            "Epoch 68/100\n",
            "3/3 [==============================] - 0s 14ms/step - loss: 49.8386 - mae: 50.3339\n",
            "Epoch 69/100\n",
            "3/3 [==============================] - 0s 13ms/step - loss: 51.6835 - mae: 52.1798\n",
            "Epoch 70/100\n",
            "3/3 [==============================] - 0s 13ms/step - loss: 53.4029 - mae: 53.8998\n",
            "Epoch 71/100\n",
            "3/3 [==============================] - 0s 12ms/step - loss: 55.3160 - mae: 55.8137\n",
            "Epoch 72/100\n",
            "3/3 [==============================] - 0s 15ms/step - loss: 50.7910 - mae: 51.2874\n",
            "Epoch 73/100\n",
            "3/3 [==============================] - 0s 13ms/step - loss: 47.3560 - mae: 47.8501\n",
            "Epoch 74/100\n",
            "3/3 [==============================] - 0s 13ms/step - loss: 50.5944 - mae: 51.0892\n",
            "Epoch 75/100\n",
            "3/3 [==============================] - 0s 13ms/step - loss: 48.3941 - mae: 48.8903\n",
            "Epoch 76/100\n",
            "3/3 [==============================] - 0s 14ms/step - loss: 50.4942 - mae: 50.9903\n",
            "Epoch 77/100\n",
            "3/3 [==============================] - 0s 14ms/step - loss: 48.4802 - mae: 48.9750\n",
            "Epoch 78/100\n",
            "3/3 [==============================] - 0s 13ms/step - loss: 46.9017 - mae: 47.3969\n",
            "Epoch 79/100\n",
            "3/3 [==============================] - 0s 13ms/step - loss: 45.7855 - mae: 46.2796\n",
            "Epoch 80/100\n",
            "3/3 [==============================] - 0s 13ms/step - loss: 43.8782 - mae: 44.3723\n",
            "Epoch 81/100\n",
            "3/3 [==============================] - 0s 14ms/step - loss: 43.9314 - mae: 44.4258\n",
            "Epoch 82/100\n",
            "3/3 [==============================] - 0s 14ms/step - loss: 44.7635 - mae: 45.2566\n",
            "Epoch 83/100\n",
            "3/3 [==============================] - 0s 13ms/step - loss: 44.1173 - mae: 44.6113\n",
            "Epoch 84/100\n",
            "3/3 [==============================] - 0s 14ms/step - loss: 44.2632 - mae: 44.7580\n",
            "Epoch 85/100\n",
            "3/3 [==============================] - 0s 14ms/step - loss: 44.0430 - mae: 44.5356\n",
            "Epoch 86/100\n",
            "3/3 [==============================] - 0s 14ms/step - loss: 43.8197 - mae: 44.3122\n",
            "Epoch 87/100\n",
            "3/3 [==============================] - 0s 13ms/step - loss: 43.0928 - mae: 43.5862\n",
            "Epoch 88/100\n",
            "3/3 [==============================] - 0s 13ms/step - loss: 43.9315 - mae: 44.4243\n",
            "Epoch 89/100\n",
            "3/3 [==============================] - 0s 15ms/step - loss: 45.0155 - mae: 45.5106\n",
            "Epoch 90/100\n",
            "3/3 [==============================] - 0s 15ms/step - loss: 43.9427 - mae: 44.4369\n",
            "Epoch 91/100\n",
            "3/3 [==============================] - 0s 13ms/step - loss: 43.0985 - mae: 43.5930\n",
            "Epoch 92/100\n",
            "3/3 [==============================] - 0s 14ms/step - loss: 43.8544 - mae: 44.3482\n",
            "Epoch 93/100\n",
            "3/3 [==============================] - 0s 14ms/step - loss: 44.5980 - mae: 45.0917\n",
            "Epoch 94/100\n",
            "3/3 [==============================] - 0s 13ms/step - loss: 45.7982 - mae: 46.2936\n",
            "Epoch 95/100\n",
            "3/3 [==============================] - 0s 13ms/step - loss: 42.4806 - mae: 42.9728\n",
            "Epoch 96/100\n",
            "3/3 [==============================] - 0s 16ms/step - loss: 42.2969 - mae: 42.7903\n",
            "Epoch 97/100\n",
            "3/3 [==============================] - 0s 13ms/step - loss: 44.8240 - mae: 45.3195\n",
            "Epoch 98/100\n",
            "3/3 [==============================] - 0s 18ms/step - loss: 44.0230 - mae: 44.5163\n",
            "Epoch 99/100\n",
            "3/3 [==============================] - 0s 13ms/step - loss: 42.3981 - mae: 42.8920\n",
            "Epoch 100/100\n",
            "3/3 [==============================] - 0s 13ms/step - loss: 44.0089 - mae: 44.5040\n"
          ],
          "name": "stdout"
        }
      ]
    },
    {
      "cell_type": "code",
      "metadata": {
        "id": "MD2kyYUVt3O0",
        "colab": {
          "base_uri": "https://localhost:8080/",
          "height": 330
        },
        "outputId": "5e5799dd-474f-4e71-c563-bfd13a284d19"
      },
      "source": [
        "import matplotlib.image  as mpimg\n",
        "import matplotlib.pyplot as plt\n",
        "\n",
        "#-----------------------------------------------------------\n",
        "# Retrieve a list of list results on training and test data\n",
        "# sets for each training epoch\n",
        "#-----------------------------------------------------------\n",
        "loss=history.history['loss']\n",
        "epochs=range(len(loss)) # Get number of epochs\n",
        "#------------------------------------------------\n",
        "# Plot training and validation loss per epoch\n",
        "#------------------------------------------------\n",
        "plt.plot(epochs, loss, 'r')\n",
        "plt.title('Training loss')\n",
        "plt.xlabel(\"Epochs\")\n",
        "plt.ylabel(\"Loss\")\n",
        "plt.legend([\"Loss\"])\n",
        "plt.figure()"
      ],
      "execution_count": 45,
      "outputs": [
        {
          "output_type": "execute_result",
          "data": {
            "text/plain": [
              "<Figure size 432x288 with 0 Axes>"
            ]
          },
          "metadata": {
            "tags": []
          },
          "execution_count": 45
        },
        {
          "output_type": "display_data",
          "data": {
            "image/png": "[encoded data removed]",
            "text/plain": [
              "<Figure size 432x288 with 1 Axes>"
            ]
          },
          "metadata": {
            "tags": [],
            "needs_background": "light"
          }
        },
        {
          "output_type": "display_data",
          "data": {
            "text/plain": [
              "<Figure size 432x288 with 0 Axes>"
            ]
          },
          "metadata": {
            "tags": []
          }
        }
      ]
    },
    {
      "cell_type": "code",
      "metadata": {
        "id": "4XwGrf-A_wF0"
      },
      "source": [
        "def model_forecast(model, series, window_size):\n",
        "    ds = tf.data.Dataset.from_tensor_slices(series)\n",
        "    ds = ds.window(window_size, shift=1, drop_remainder=True)\n",
        "    ds = ds.flat_map(lambda w: w.batch(window_size))\n",
        "    ds = ds.batch(32).prefetch(1)\n",
        "    forecast = model.predict(ds)\n",
        "    return forecast"
      ],
      "execution_count": 46,
      "outputs": []
    },
    {
      "cell_type": "code",
      "metadata": {
        "id": "GaC6NNMRp0lb"
      },
      "source": [
        "rnn_forecast = model_forecast(model, series[..., np.newaxis], window_size)\n",
        "rnn_forecast = rnn_forecast[split_time - window_size:-1, -1, 0]"
      ],
      "execution_count": 47,
      "outputs": []
    },
    {
      "cell_type": "code",
      "metadata": {
        "id": "PrktQX3hKYex",
        "colab": {
          "base_uri": "https://localhost:8080/",
          "height": 388
        },
        "outputId": "fa120243-17a6-45d8-d139-b81a06dbfe1b"
      },
      "source": [
        "plt.figure(figsize=(10, 6))\n",
        "plot_series(time_valid, x_valid)\n",
        "plot_series(time_valid, rnn_forecast)"
      ],
      "execution_count": 48,
      "outputs": [
        {
          "output_type": "display_data",
          "data": {
            "image/png": "[encoded data removed]",
            "text/plain": [
              "<Figure size 720x432 with 1 Axes>"
            ]
          },
          "metadata": {
            "tags": [],
            "needs_background": "light"
          }
        }
      ]
    },
    {
      "cell_type": "code",
      "metadata": {
        "id": "13XrorC5wQoE",
        "colab": {
          "base_uri": "https://localhost:8080/"
        },
        "outputId": "37f4ba14-738b-496a-f29a-8739555b8a2e"
      },
      "source": [
        "tf.keras.metrics.mean_absolute_error(x_valid, rnn_forecast).numpy()"
      ],
      "execution_count": 49,
      "outputs": [
        {
          "output_type": "execute_result",
          "data": {
            "text/plain": [
              "395.97244"
            ]
          },
          "metadata": {
            "tags": []
          },
          "execution_count": 49
        }
      ]
    }
  ]
}